{
 "cells": [
  {
   "cell_type": "markdown",
   "metadata": {},
   "source": [
    "Three objectives:\n",
    "\n",
    "1.  Help, baked into python.\n",
    "2.  Brief intro to regular expressions.\n",
    "3.  Installing third-party modules (\"easy\" installations only)."
   ]
  },
  {
   "cell_type": "markdown",
   "metadata": {},
   "source": [
    "### What type is an object?\n",
    "\n",
    "Python has a number of [built-in functions](https://docs.python.org/2/library/functions.html), three of which (**type**, **dir**, and **help**) are useful in determining the type of an object, etc.\n",
    "\n",
    "When we define a variable, create an object, etc, we know its type; however, from time to time, we might get a result from some third-party function (or we may have lost track of what we were doing!), hence the need for these functions."
   ]
  },
  {
   "cell_type": "code",
   "execution_count": null,
   "metadata": {
    "collapsed": false
   },
   "outputs": [],
   "source": [
    "from collections import defaultdict\n",
    "\n",
    "a_number = 12\n",
    "a_string = 'Some meaningless text'\n",
    "a_list = ['a', 'b', 'c', 'd']\n",
    "a_dictionary = {'a': 1, 'b':2, 'c': 3, 'd': 4}\n",
    "\n",
    "a_defaultdict = defaultdict()\n",
    "for a, n in enumerate(a_list):\n",
    "    a_defaultdict[a] = n\n",
    "\n",
    "print 'type(a_number)', type(a_number)\n",
    "print 'type(a_string)', type(a_string)\n",
    "print 'type(a_list)', type(a_list)\n",
    "print 'type(a_dictionary)', type(a_dictionary)\n",
    "print 'type(a_defaultdict)', type(a_defaultdict)"
   ]
  },
  {
   "cell_type": "markdown",
   "metadata": {},
   "source": [
    "### What are the methods and properties of an object . . . \n",
    "\n",
    ". . . and which is which?"
   ]
  },
  {
   "cell_type": "code",
   "execution_count": null,
   "metadata": {
    "collapsed": false
   },
   "outputs": [],
   "source": [
    "print\n",
    "print dir(a_dictionary)\n",
    "print\n",
    "print a_dictionary.keys\n",
    "print\n",
    "print a_dictionary.__doc__\n",
    "\n",
    "a_dictionary.keys"
   ]
  },
  {
   "cell_type": "markdown",
   "metadata": {},
   "source": [
    "### What is a method's signature?\n",
    "\n",
    "I.e., what arguments does it take, and what does it return?\n",
    "\n",
    "For help to work, [\"docstrings\"](https://en.wikipedia.org/wiki/Docstring#Python) must be present in the code being \"helped\"."
   ]
  },
  {
   "cell_type": "code",
   "execution_count": null,
   "metadata": {
    "collapsed": false
   },
   "outputs": [],
   "source": [
    "print help(a_dictionary.keys)"
   ]
  },
  {
   "cell_type": "markdown",
   "metadata": {},
   "source": [
    "### type, dir and help work on modules\n",
    "\n",
    "We're conditioned (or at least I am) to Google everything.  But for standard modules (i.e., those that ship with the core language) and for third-party modules written by good citizens, there is a ton of useful information at your fingertips."
   ]
  },
  {
   "cell_type": "code",
   "execution_count": null,
   "metadata": {
    "collapsed": false,
    "scrolled": false
   },
   "outputs": [],
   "source": [
    "import collections\n",
    "\n",
    "print\n",
    "print type(collections)\n",
    "print\n",
    "print dir(collections)\n",
    "print\n",
    "print help(collections.Counter)"
   ]
  },
  {
   "cell_type": "markdown",
   "metadata": {},
   "source": [
    "### Brief intro to regular expressions\n",
    "\n",
    "See\n",
    "\n",
    "* Doug Knox's [\"Understanding Regular Expressions\"](https://programminghistorian.org/lessons/understanding-regular-expressions)\n",
    "* [Python's documentation](https://docs.python.org/2/howto/regex.html)\n",
    "\n",
    "Make your regular expressions **raw strings**, so the python interpreter passes the escape character \"\\\" through to re.\n",
    "\n",
    "**metacharacters**, special sequences, capture groups, character classes . . . "
   ]
  },
  {
   "cell_type": "code",
   "execution_count": null,
   "metadata": {
    "collapsed": false
   },
   "outputs": [],
   "source": [
    "import re\n",
    "\n",
    "test_string = 'I am a teapot, short and stout.'\n",
    "\n",
    "result = re.sub(r'\\bteapot\\b', 'beverage brewing system', test_string)     # \\b (slash b) means word boundary\n",
    "\n",
    "print\n",
    "print 'test_string', test_string\n",
    "print\n",
    "print 'type(result)', type(result)\n",
    "print\n",
    "print 'result', result\n",
    "\n",
    "result = re.sub(r'[aeiou]', '', test_string)\n",
    "\n",
    "print\n",
    "print result\n",
    "\n",
    "result = re.sub(r'\\b(tea)(pot)\\b', r'\\1\\1\\1\\2\\2', test_string)\n",
    "\n",
    "print\n",
    "print result\n"
   ]
  },
  {
   "cell_type": "markdown",
   "metadata": {},
   "source": [
    "### regex tokenizing\n",
    "\n",
    "(There's more on this, and on tokenizing in general, in the NLTK book.)"
   ]
  },
  {
   "cell_type": "code",
   "execution_count": null,
   "metadata": {
    "collapsed": false
   },
   "outputs": [],
   "source": [
    "import re\n",
    "\n",
    "test_string = \"\"\"\n",
    "Semolina Pilchard,\n",
    "Climbing up the Eiffel tower,\n",
    "Elementary penguin singing Hare Krishna:\n",
    "Man, you should have seen them kicking Edgar Allen Poe . . . \n",
    "\n",
    "I am the egg-man!\n",
    "They are the egg-men!\n",
    "I am the walrus!\n",
    "Goo goo g'joob, goo goo goo g'joob\n",
    "Goo goo g'joob, goo goo goo g'joob, goo goo\n",
    "\"\"\"\n",
    "\n",
    "tokens = re.split(r'\\W', test_string)      # \\W means any non-alphanumeric character\n",
    " \n",
    "print\n",
    "print tokens\n",
    "\n",
    "tokens = [t for t in re.split(r'\\W', test_string) if t > '']      \n",
    "\n",
    "print\n",
    "print tokens\n",
    "\n",
    "tokens = []\n",
    "for t in re.split(r'\\W', test_string):\n",
    "    if t > '':\n",
    "        tokens.append(t)\n",
    "\n",
    "print\n",
    "print tokens"
   ]
  },
  {
   "cell_type": "code",
   "execution_count": null,
   "metadata": {
    "collapsed": false
   },
   "outputs": [],
   "source": [
    "import re\n",
    "\n",
    "test_string = \"\"\"\n",
    "Semolina Pilchard,\n",
    "Climbing up the Eiffel tower,\n",
    "Elementary penguin singing Hare Krishna:\n",
    "Man, you should have seen them kicking Edgar Allen Poe . . . \n",
    "\n",
    "I am the egg-man!\n",
    "They are the egg-men!\n",
    "I am the walrus!\n",
    "Goo goo g'joob, goo goo goo g'joob\n",
    "Goo goo g'joob, goo goo goo g'joob, goo goo\n",
    "\"\"\"\n",
    "\n",
    "tokens = [t for t in re.split(r'\\s', test_string) if t > '']      # \\s means white space (space, new line, tab)\n",
    "\n",
    "print\n",
    "print tokens\n",
    "\n",
    "tokens = [t for t in re.split(r'\\s|\\.|!', test_string) if t > '']  # | (pipe) means or; \\. means period\n",
    "\n",
    "print\n",
    "print tokens\n",
    "\n",
    "tokens = [t for t in re.split(r'[\\s\\.!]', test_string) if t > '']   # [] indicates a \"regex class\" of characters\n",
    "\n",
    "print\n",
    "print tokens\n",
    "\n",
    "tokens = [t for t in re.split(r'([\\s\\.!])', test_string) if t > '']  # () here puts the split characters in the results\n",
    "\n",
    "print\n",
    "print tokens\n"
   ]
  },
  {
   "cell_type": "code",
   "execution_count": null,
   "metadata": {
    "collapsed": false
   },
   "outputs": [],
   "source": [
    "import re\n",
    "\n",
    "test_string = \"\"\"\n",
    "Semolina Pilchard,\n",
    "Climbing up the Eiffel tower,\n",
    "Elementary penguin singing Hare Krishna:\n",
    "Man, you should have seen them kicking Edgar Allen Poe . . . \n",
    "\n",
    "I am the egg-man!\n",
    "They are the egg-men!\n",
    "I am the walrus!\n",
    "Goo goo g'joob, goo goo goo g'joob\n",
    "Goo goo g'joob, goo goo goo g'joob, goo goo\n",
    "\"\"\"\n",
    "\n",
    "tokens = [t for t in re.split(r'[^a-z]', test_string.lower()) if t > '']  # ^ means not; split if not a-z\n",
    "\n",
    "print\n",
    "print tokens\n",
    "\n",
    "tokens = [t for t in re.split(r'(.)', test_string) if t > '']  # . unescaped means any character; note () in expression\n",
    "\n",
    "print\n",
    "print tokens"
   ]
  },
  {
   "cell_type": "markdown",
   "metadata": {},
   "source": [
    "#### [where did I leave macbeth, and what's it called?]\n",
    "\n",
    "It's possible to [run shell commands the notebook](https://jakevdp.github.io/PythonDataScienceHandbook/01.05-ipython-and-shell-commands.html) (Mac and Linux)."
   ]
  },
  {
   "cell_type": "code",
   "execution_count": null,
   "metadata": {
    "collapsed": false
   },
   "outputs": [],
   "source": [
    "!ls corpora/shakespeare_plaintext"
   ]
  },
  {
   "cell_type": "markdown",
   "metadata": {},
   "source": [
    "### Matching . . .\n",
    "\n",
    "Do you want to search to for the first match, or do you want to find all matches?\n",
    "\n",
    "[**Search vs match**](https://docs.python.org/2/library/re.html#search-vs-match) is yet another odd little corner of python . . . "
   ]
  },
  {
   "cell_type": "code",
   "execution_count": null,
   "metadata": {
    "collapsed": false
   },
   "outputs": [],
   "source": [
    "import re\n",
    "\n",
    "def demonstrate_re_search(regex_pattern, string_to_search):\n",
    "    \n",
    "    print \n",
    "    print 'regex_pattern', regex_pattern\n",
    "\n",
    "    match = re.search(regex_pattern, string_to_search)\n",
    "    \n",
    "    #print \n",
    "    #print '\\t', type(match), dir(match)\n",
    "    #print\n",
    "    \n",
    "    if match == None:\n",
    "        print '\\t', 'NOT FOUND'\n",
    "    else:\n",
    "        print '\\t', 'FOUND'\n",
    "    \n",
    "# ------------------------------------------------------------------------\n",
    "\n",
    "macbeth_text = open('corpora/shakespeare_plaintext/macbeth.txt').read()\n",
    "\n",
    "macbeth_text = re.sub('\\n\\n+', '\\n', macbeth_text)\n",
    "\n",
    "demonstrate_re_search(r'\\bsemolina pilchard\\b', macbeth_text)\n",
    "\n",
    "demonstrate_re_search(r'\\bequivoca.*\\b', macbeth_text)\n",
    "\n",
    "matches = re.finditer(r'\\bequivoca.*\\b', macbeth_text.lower())\n",
    "for m in matches:\n",
    "    print\n",
    "    print '-------------------------------------------------------------'\n",
    "    #print type(m)\n",
    "    #print type(m), dir(m)\n",
    "    print m.start(), macbeth_text[m.start() - 100: m.end() + 100]\n"
   ]
  },
  {
   "cell_type": "markdown",
   "metadata": {},
   "source": [
    "### Installing third-party packages\n",
    "\n",
    "We're going to install\n",
    "\n",
    "* [Beautiful Soup](https://www.crummy.com/software/BeautifulSoup/bs4/doc/), a library for parsing content from web pages;\n",
    "* [lxml](http://lxml.de/), which is especially useful for parsing XML;\n",
    "* [Scrapy](https://scrapy.org/), a web scraper;\n",
    "* [spacy](https://spacy.io/), an NLP (Natural Language Processing) package;\n",
    "* [textacy](http://textacy.readthedocs.io/en/latest/), which adds some goodness on top of spacy;\n",
    "* [gensim](https://radimrehurek.com/gensim/), a nifty corpus loader/comparer/topic modeller;\n",
    "* And [nltk](https://www.nltk.org/).\n",
    "\n",
    "#### Mac and Linux\n",
    "\n",
    "We're going to try to [**use conda**](https://conda.io/docs/user-guide/tasks/manage-pkgs.html) for everything.  In the cell below, remove the '#' which precedes which line, then run the cell.  Don't remove the '!'; otherwise, the notebook won't see the line as a shell command.\n",
    "\n",
    "#### Windows\n",
    "\n",
    "**I hope this works.  If not, make your way to Eads 004, and we'll figure it out.**\n",
    "\n",
    "From the start menu, you should have something called the \"Anaconda Prompt.\"  Open it.  Copy line-by-line the content from the next cell, and hit enter.\n"
   ]
  },
  {
   "cell_type": "code",
   "execution_count": null,
   "metadata": {
    "collapsed": false,
    "scrolled": false
   },
   "outputs": [],
   "source": [
    "!conda install -y beautifulsoup4\n",
    "!conda install -y lxml\n",
    "!conda install -y scrapy\n",
    "!conda install -y spacy\n",
    "!python -m spacy download en\n",
    "!conda install -y textacy\n",
    "!conda install -y gensim\n",
    "!conda install -y nltk"
   ]
  },
  {
   "cell_type": "markdown",
   "metadata": {},
   "source": [
    "#### Grab one ntlk corpus"
   ]
  },
  {
   "cell_type": "code",
   "execution_count": null,
   "metadata": {
    "collapsed": false
   },
   "outputs": [],
   "source": [
    "import nltk\n",
    "nltk.download(\"stopwords\")"
   ]
  },
  {
   "cell_type": "code",
   "execution_count": null,
   "metadata": {
    "collapsed": true
   },
   "outputs": [],
   "source": []
  }
 ],
 "metadata": {
  "anaconda-cloud": {},
  "kernelspec": {
   "display_name": "Python [default]",
   "language": "python",
   "name": "python2"
  },
  "language_info": {
   "codemirror_mode": {
    "name": "ipython",
    "version": 2
   },
   "file_extension": ".py",
   "mimetype": "text/x-python",
   "name": "python",
   "nbconvert_exporter": "python",
   "pygments_lexer": "ipython2",
   "version": "2.7.12"
  }
 },
 "nbformat": 4,
 "nbformat_minor": 2
}
